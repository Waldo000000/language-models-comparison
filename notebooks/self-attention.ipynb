{
 "cells": [
  {
   "cell_type": "markdown",
   "id": "0e1d72bb-1cd0-41ea-909c-5671cc52df54",
   "metadata": {},
   "source": [
    "## What is self-attention?"
   ]
  },
  {
   "cell_type": "markdown",
   "id": "2f6d0721-9dfd-4a1e-8822-614b5e2a2e08",
   "metadata": {},
   "source": [
    "> TODO"
   ]
  }
 ],
 "metadata": {
  "kernelspec": {
   "display_name": "Python 3 (ipykernel)",
   "language": "python",
   "name": "python3"
  },
  "language_info": {
   "codemirror_mode": {
    "name": "ipython",
    "version": 3
   },
   "file_extension": ".py",
   "mimetype": "text/x-python",
   "name": "python",
   "nbconvert_exporter": "python",
   "pygments_lexer": "ipython3",
   "version": "3.10.1"
  }
 },
 "nbformat": 4,
 "nbformat_minor": 5
}
